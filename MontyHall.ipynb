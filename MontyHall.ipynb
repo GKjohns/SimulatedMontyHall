{
 "cells": [
  {
   "cell_type": "markdown",
   "metadata": {},
   "source": [
    "## Simulating the Monty Hall problem so Casey can see that it makes sense. It was a fun exercise and an oppprtunity to see how problems can be approached probabilistically, intuitively, and computationally."
   ]
  },
  {
   "cell_type": "code",
   "execution_count": 2,
   "metadata": {
    "collapsed": true
   },
   "outputs": [],
   "source": [
    "%matplotlib inline\n",
    "import random\n",
    "import numpy as np\n",
    "import seaborn as sns"
   ]
  },
  {
   "cell_type": "markdown",
   "metadata": {},
   "source": [
    "### Split the problem into 2 scenarios—One in which you stay with your initial guess and another in which you switch to another door after the host reveals one that does not contain a prize"
   ]
  },
  {
   "cell_type": "code",
   "execution_count": 3,
   "metadata": {
    "collapsed": false
   },
   "outputs": [],
   "source": [
    "def games_no_switch():\n",
    "    results = []\n",
    "    for i in xrange(10000):   \n",
    "        correct_door = random.choice([1,2,3])\n",
    "        contestant_choice = random.choice([1,2,3])\n",
    "\n",
    "        if contestant_choice == correct_door:\n",
    "            results.append(True)\n",
    "        else:\n",
    "            results.append(False)\n",
    "    return np.mean(results)\n",
    "    "
   ]
  },
  {
   "cell_type": "code",
   "execution_count": 4,
   "metadata": {
    "collapsed": false
   },
   "outputs": [],
   "source": [
    "no_switch_results = [games_no_switch() for i in xrange(1000)]"
   ]
  },
  {
   "cell_type": "code",
   "execution_count": 12,
   "metadata": {
    "collapsed": false
   },
   "outputs": [
    {
     "name": "stdout",
     "output_type": "stream",
     "text": [
      "Distribution is centered on 0.3329724\n"
     ]
    },
    {
     "data": {
      "image/png": "[encoded data removed]",
      "text/plain": [
       "<matplotlib.figure.Figure at 0x1092911d0>"
      ]
     },
     "metadata": {},
     "output_type": "display_data"
    }
   ],
   "source": [
    "sns.distplot(no_switch_results)\n",
    "print 'Distribution is centered on {}'.format(np.mean(no_switch_results))"
   ]
  },
  {
   "cell_type": "markdown",
   "metadata": {},
   "source": [
    "The following conditional takes a second to understand. If you selected the correct door initially, switching to another will cause you to lose. If you chose an incorrect door initially, **switching door will always make you win**. You selected one incorrect door and the host opens the other. Understanding this helps things make sense intuitively. If you switch, you are betting that you guessed incorrectly initially. The chances of you guessing  incorrectly are 2/3 as opposed to the 1/3 probability that you guessed correctly at the outset."
   ]
  },
  {
   "cell_type": "code",
   "execution_count": 7,
   "metadata": {
    "collapsed": false
   },
   "outputs": [],
   "source": [
    "def games_with_switch():\n",
    "    \n",
    "    results = []\n",
    "    for i in xrange(10000):\n",
    "        correct_door = random.choice([1,2,3])\n",
    "        player_initial = random.choice([1,2,3])\n",
    "\n",
    "\n",
    "        if player_initial == correct_door:\n",
    "            results.append(False)\n",
    "        else:\n",
    "            results.append(True)\n",
    "    return np.mean(results)"
   ]
  },
  {
   "cell_type": "code",
   "execution_count": 8,
   "metadata": {
    "collapsed": false
   },
   "outputs": [
    {
     "data": {
      "text/plain": [
       "0.67210000000000003"
      ]
     },
     "execution_count": 8,
     "metadata": {},
     "output_type": "execute_result"
    }
   ],
   "source": [
    "games_with_switch()"
   ]
  },
  {
   "cell_type": "code",
   "execution_count": 9,
   "metadata": {
    "collapsed": false
   },
   "outputs": [],
   "source": [
    "switch_results = [games_with_switch() for i in xrange(1000)]"
   ]
  },
  {
   "cell_type": "code",
   "execution_count": 11,
   "metadata": {
    "collapsed": false
   },
   "outputs": [
    {
     "name": "stdout",
     "output_type": "stream",
     "text": [
      "Distribution is centered on 0.6664782\n"
     ]
    },
    {
     "data": {
      "image/png": "[encoded data removed]",
      "text/plain": [
       "<matplotlib.figure.Figure at 0x108fa3a90>"
      ]
     },
     "metadata": {},
     "output_type": "display_data"
    }
   ],
   "source": [
    "sns.distplot(switch_results)\n",
    "print 'Distribution is centered on {}'.format(np.mean(switch_results))"
   ]
  },
  {
   "cell_type": "code",
   "execution_count": null,
   "metadata": {
    "collapsed": true
   },
   "outputs": [],
   "source": []
  }
 ],
 "metadata": {
  "kernelspec": {
   "display_name": "Python 2",
   "language": "python",
   "name": "python2"
  },
  "language_info": {
   "codemirror_mode": {
    "name": "ipython",
    "version": 2
   },
   "file_extension": ".py",
   "mimetype": "text/x-python",
   "name": "python",
   "nbconvert_exporter": "python",
   "pygments_lexer": "ipython2",
   "version": "2.7.10"
  }
 },
 "nbformat": 4,
 "nbformat_minor": 0
}
